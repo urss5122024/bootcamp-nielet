{
  "nbformat": 4,
  "nbformat_minor": 0,
  "metadata": {
    "colab": {
      "provenance": []
    },
    "kernelspec": {
      "name": "python3",
      "display_name": "Python 3"
    },
    "language_info": {
      "name": "python"
    }
  },
  "cells": [
    {
      "cell_type": "code",
      "execution_count": 1,
      "metadata": {
        "colab": {
          "base_uri": "https://localhost:8080/"
        },
        "id": "o4GqiJb6rFIz",
        "outputId": "7a7fb92d-8785-4a96-e266-d3fb5c03fa55"
      },
      "outputs": [
        {
          "output_type": "stream",
          "name": "stdout",
          "text": [
            "Hello,world\n"
          ]
        }
      ],
      "source": [
        "print('Hello,world')"
      ]
    },
    {
      "cell_type": "code",
      "source": [
        "#print sum of two number\n",
        "a=float(input('Enter a number'))\n",
        "b=float(input('Enter another number'))\n",
        "c=a+b\n",
        "print('the sum of these number is',c)"
      ],
      "metadata": {
        "colab": {
          "base_uri": "https://localhost:8080/"
        },
        "id": "-7Kf_PfzsZgu",
        "outputId": "3814450f-bc08-4a30-fbb1-2b75c737c46f"
      },
      "execution_count": 2,
      "outputs": [
        {
          "output_type": "stream",
          "name": "stdout",
          "text": [
            "Enter a number34\n",
            "Enter another number23\n",
            "the sum of these number is 57.0\n"
          ]
        }
      ]
    },
    {
      "cell_type": "code",
      "source": [
        "#product of two number\n",
        "a=float(input('Enter a number'))\n",
        "b=float(input('enter a number'))\n",
        "c=a*b\n",
        "print('the product of numbers is',c)"
      ],
      "metadata": {
        "colab": {
          "base_uri": "https://localhost:8080/"
        },
        "id": "JrpKBTt1tvn2",
        "outputId": "f7126b6b-2981-4f10-f113-b523028aed67"
      },
      "execution_count": 4,
      "outputs": [
        {
          "output_type": "stream",
          "name": "stdout",
          "text": [
            "Enter a number2\n",
            "enter a number3\n",
            "the product of numbers is 6.0\n"
          ]
        }
      ]
    }
  ]
}